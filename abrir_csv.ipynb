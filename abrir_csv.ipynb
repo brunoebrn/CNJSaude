{
 "cells": [
  {
   "cell_type": "code",
   "id": "initial_id",
   "metadata": {
    "collapsed": true,
    "ExecuteTime": {
     "end_time": "2025-04-15T01:16:23.222741Z",
     "start_time": "2025-04-15T01:16:21.697301Z"
    }
   },
   "source": [
    "import pandas as pd\n",
    "pd.set_option('display.max_columns', None)\n",
    "\n",
    "path_aux = './AnaliseBR/ArquivosAuxiliares'\n",
    "path_exemplo = './AnaliseBR/Exemplo'"
   ],
   "outputs": [],
   "execution_count": 1
  },
  {
   "metadata": {
    "ExecuteTime": {
     "end_time": "2025-04-15T01:19:46.942055Z",
     "start_time": "2025-04-15T01:19:39.878553Z"
    }
   },
   "cell_type": "code",
   "source": [
    "for df in pd.read_csv(path_aux + '/tbl_fato_assuntos_R.csv', sep = ';', chunksize = 100000):\n",
    "    print(df.columns.tolist())"
   ],
   "id": "47089b35b30af44d",
   "outputs": [
    {
     "name": "stdout",
     "output_type": "stream",
     "text": [
      "['id_orgao_julgador', 'id_origem', 'sigla_tribunal', 'ramo_justica', 'sigla_grau', 'id_formato', 'procedimento', 'originario', 'id_assunto', 'ano', 'p.12m', 'ind1', 'ind2', 'ind19_dias', 'ind3', 'ind16_dias', 'ind16_proc', 'ind8a1', 'ind17_dias', 'ind17_proc', 'ind5', 'ind18_dias', 'cp.15anos', 'cpl.15anos', 'cpnjulg.15anos', 'cplnjulg.15anos', 'ind8a', 'ind20', 'ind21', 'ind15total', 'ind15min', 'ind15max', 'ind18_proc', 'ind19_proc']\n",
      "['id_orgao_julgador', 'id_origem', 'sigla_tribunal', 'ramo_justica', 'sigla_grau', 'id_formato', 'procedimento', 'originario', 'id_assunto', 'ano', 'p.12m', 'ind1', 'ind2', 'ind19_dias', 'ind3', 'ind16_dias', 'ind16_proc', 'ind8a1', 'ind17_dias', 'ind17_proc', 'ind5', 'ind18_dias', 'cp.15anos', 'cpl.15anos', 'cpnjulg.15anos', 'cplnjulg.15anos', 'ind8a', 'ind20', 'ind21', 'ind15total', 'ind15min', 'ind15max', 'ind18_proc', 'ind19_proc']\n",
      "['id_orgao_julgador', 'id_origem', 'sigla_tribunal', 'ramo_justica', 'sigla_grau', 'id_formato', 'procedimento', 'originario', 'id_assunto', 'ano', 'p.12m', 'ind1', 'ind2', 'ind19_dias', 'ind3', 'ind16_dias', 'ind16_proc', 'ind8a1', 'ind17_dias', 'ind17_proc', 'ind5', 'ind18_dias', 'cp.15anos', 'cpl.15anos', 'cpnjulg.15anos', 'cplnjulg.15anos', 'ind8a', 'ind20', 'ind21', 'ind15total', 'ind15min', 'ind15max', 'ind18_proc', 'ind19_proc']\n",
      "['id_orgao_julgador', 'id_origem', 'sigla_tribunal', 'ramo_justica', 'sigla_grau', 'id_formato', 'procedimento', 'originario', 'id_assunto', 'ano', 'p.12m', 'ind1', 'ind2', 'ind19_dias', 'ind3', 'ind16_dias', 'ind16_proc', 'ind8a1', 'ind17_dias', 'ind17_proc', 'ind5', 'ind18_dias', 'cp.15anos', 'cpl.15anos', 'cpnjulg.15anos', 'cplnjulg.15anos', 'ind8a', 'ind20', 'ind21', 'ind15total', 'ind15min', 'ind15max', 'ind18_proc', 'ind19_proc']\n",
      "['id_orgao_julgador', 'id_origem', 'sigla_tribunal', 'ramo_justica', 'sigla_grau', 'id_formato', 'procedimento', 'originario', 'id_assunto', 'ano', 'p.12m', 'ind1', 'ind2', 'ind19_dias', 'ind3', 'ind16_dias', 'ind16_proc', 'ind8a1', 'ind17_dias', 'ind17_proc', 'ind5', 'ind18_dias', 'cp.15anos', 'cpl.15anos', 'cpnjulg.15anos', 'cplnjulg.15anos', 'ind8a', 'ind20', 'ind21', 'ind15total', 'ind15min', 'ind15max', 'ind18_proc', 'ind19_proc']\n",
      "['id_orgao_julgador', 'id_origem', 'sigla_tribunal', 'ramo_justica', 'sigla_grau', 'id_formato', 'procedimento', 'originario', 'id_assunto', 'ano', 'p.12m', 'ind1', 'ind2', 'ind19_dias', 'ind3', 'ind16_dias', 'ind16_proc', 'ind8a1', 'ind17_dias', 'ind17_proc', 'ind5', 'ind18_dias', 'cp.15anos', 'cpl.15anos', 'cpnjulg.15anos', 'cplnjulg.15anos', 'ind8a', 'ind20', 'ind21', 'ind15total', 'ind15min', 'ind15max', 'ind18_proc', 'ind19_proc']\n",
      "['id_orgao_julgador', 'id_origem', 'sigla_tribunal', 'ramo_justica', 'sigla_grau', 'id_formato', 'procedimento', 'originario', 'id_assunto', 'ano', 'p.12m', 'ind1', 'ind2', 'ind19_dias', 'ind3', 'ind16_dias', 'ind16_proc', 'ind8a1', 'ind17_dias', 'ind17_proc', 'ind5', 'ind18_dias', 'cp.15anos', 'cpl.15anos', 'cpnjulg.15anos', 'cplnjulg.15anos', 'ind8a', 'ind20', 'ind21', 'ind15total', 'ind15min', 'ind15max', 'ind18_proc', 'ind19_proc']\n",
      "['id_orgao_julgador', 'id_origem', 'sigla_tribunal', 'ramo_justica', 'sigla_grau', 'id_formato', 'procedimento', 'originario', 'id_assunto', 'ano', 'p.12m', 'ind1', 'ind2', 'ind19_dias', 'ind3', 'ind16_dias', 'ind16_proc', 'ind8a1', 'ind17_dias', 'ind17_proc', 'ind5', 'ind18_dias', 'cp.15anos', 'cpl.15anos', 'cpnjulg.15anos', 'cplnjulg.15anos', 'ind8a', 'ind20', 'ind21', 'ind15total', 'ind15min', 'ind15max', 'ind18_proc', 'ind19_proc']\n",
      "['id_orgao_julgador', 'id_origem', 'sigla_tribunal', 'ramo_justica', 'sigla_grau', 'id_formato', 'procedimento', 'originario', 'id_assunto', 'ano', 'p.12m', 'ind1', 'ind2', 'ind19_dias', 'ind3', 'ind16_dias', 'ind16_proc', 'ind8a1', 'ind17_dias', 'ind17_proc', 'ind5', 'ind18_dias', 'cp.15anos', 'cpl.15anos', 'cpnjulg.15anos', 'cplnjulg.15anos', 'ind8a', 'ind20', 'ind21', 'ind15total', 'ind15min', 'ind15max', 'ind18_proc', 'ind19_proc']\n",
      "['id_orgao_julgador', 'id_origem', 'sigla_tribunal', 'ramo_justica', 'sigla_grau', 'id_formato', 'procedimento', 'originario', 'id_assunto', 'ano', 'p.12m', 'ind1', 'ind2', 'ind19_dias', 'ind3', 'ind16_dias', 'ind16_proc', 'ind8a1', 'ind17_dias', 'ind17_proc', 'ind5', 'ind18_dias', 'cp.15anos', 'cpl.15anos', 'cpnjulg.15anos', 'cplnjulg.15anos', 'ind8a', 'ind20', 'ind21', 'ind15total', 'ind15min', 'ind15max', 'ind18_proc', 'ind19_proc']\n",
      "['id_orgao_julgador', 'id_origem', 'sigla_tribunal', 'ramo_justica', 'sigla_grau', 'id_formato', 'procedimento', 'originario', 'id_assunto', 'ano', 'p.12m', 'ind1', 'ind2', 'ind19_dias', 'ind3', 'ind16_dias', 'ind16_proc', 'ind8a1', 'ind17_dias', 'ind17_proc', 'ind5', 'ind18_dias', 'cp.15anos', 'cpl.15anos', 'cpnjulg.15anos', 'cplnjulg.15anos', 'ind8a', 'ind20', 'ind21', 'ind15total', 'ind15min', 'ind15max', 'ind18_proc', 'ind19_proc']\n",
      "['id_orgao_julgador', 'id_origem', 'sigla_tribunal', 'ramo_justica', 'sigla_grau', 'id_formato', 'procedimento', 'originario', 'id_assunto', 'ano', 'p.12m', 'ind1', 'ind2', 'ind19_dias', 'ind3', 'ind16_dias', 'ind16_proc', 'ind8a1', 'ind17_dias', 'ind17_proc', 'ind5', 'ind18_dias', 'cp.15anos', 'cpl.15anos', 'cpnjulg.15anos', 'cplnjulg.15anos', 'ind8a', 'ind20', 'ind21', 'ind15total', 'ind15min', 'ind15max', 'ind18_proc', 'ind19_proc']\n",
      "['id_orgao_julgador', 'id_origem', 'sigla_tribunal', 'ramo_justica', 'sigla_grau', 'id_formato', 'procedimento', 'originario', 'id_assunto', 'ano', 'p.12m', 'ind1', 'ind2', 'ind19_dias', 'ind3', 'ind16_dias', 'ind16_proc', 'ind8a1', 'ind17_dias', 'ind17_proc', 'ind5', 'ind18_dias', 'cp.15anos', 'cpl.15anos', 'cpnjulg.15anos', 'cplnjulg.15anos', 'ind8a', 'ind20', 'ind21', 'ind15total', 'ind15min', 'ind15max', 'ind18_proc', 'ind19_proc']\n",
      "['id_orgao_julgador', 'id_origem', 'sigla_tribunal', 'ramo_justica', 'sigla_grau', 'id_formato', 'procedimento', 'originario', 'id_assunto', 'ano', 'p.12m', 'ind1', 'ind2', 'ind19_dias', 'ind3', 'ind16_dias', 'ind16_proc', 'ind8a1', 'ind17_dias', 'ind17_proc', 'ind5', 'ind18_dias', 'cp.15anos', 'cpl.15anos', 'cpnjulg.15anos', 'cplnjulg.15anos', 'ind8a', 'ind20', 'ind21', 'ind15total', 'ind15min', 'ind15max', 'ind18_proc', 'ind19_proc']\n",
      "['id_orgao_julgador', 'id_origem', 'sigla_tribunal', 'ramo_justica', 'sigla_grau', 'id_formato', 'procedimento', 'originario', 'id_assunto', 'ano', 'p.12m', 'ind1', 'ind2', 'ind19_dias', 'ind3', 'ind16_dias', 'ind16_proc', 'ind8a1', 'ind17_dias', 'ind17_proc', 'ind5', 'ind18_dias', 'cp.15anos', 'cpl.15anos', 'cpnjulg.15anos', 'cplnjulg.15anos', 'ind8a', 'ind20', 'ind21', 'ind15total', 'ind15min', 'ind15max', 'ind18_proc', 'ind19_proc']\n",
      "['id_orgao_julgador', 'id_origem', 'sigla_tribunal', 'ramo_justica', 'sigla_grau', 'id_formato', 'procedimento', 'originario', 'id_assunto', 'ano', 'p.12m', 'ind1', 'ind2', 'ind19_dias', 'ind3', 'ind16_dias', 'ind16_proc', 'ind8a1', 'ind17_dias', 'ind17_proc', 'ind5', 'ind18_dias', 'cp.15anos', 'cpl.15anos', 'cpnjulg.15anos', 'cplnjulg.15anos', 'ind8a', 'ind20', 'ind21', 'ind15total', 'ind15min', 'ind15max', 'ind18_proc', 'ind19_proc']\n",
      "['id_orgao_julgador', 'id_origem', 'sigla_tribunal', 'ramo_justica', 'sigla_grau', 'id_formato', 'procedimento', 'originario', 'id_assunto', 'ano', 'p.12m', 'ind1', 'ind2', 'ind19_dias', 'ind3', 'ind16_dias', 'ind16_proc', 'ind8a1', 'ind17_dias', 'ind17_proc', 'ind5', 'ind18_dias', 'cp.15anos', 'cpl.15anos', 'cpnjulg.15anos', 'cplnjulg.15anos', 'ind8a', 'ind20', 'ind21', 'ind15total', 'ind15min', 'ind15max', 'ind18_proc', 'ind19_proc']\n",
      "['id_orgao_julgador', 'id_origem', 'sigla_tribunal', 'ramo_justica', 'sigla_grau', 'id_formato', 'procedimento', 'originario', 'id_assunto', 'ano', 'p.12m', 'ind1', 'ind2', 'ind19_dias', 'ind3', 'ind16_dias', 'ind16_proc', 'ind8a1', 'ind17_dias', 'ind17_proc', 'ind5', 'ind18_dias', 'cp.15anos', 'cpl.15anos', 'cpnjulg.15anos', 'cplnjulg.15anos', 'ind8a', 'ind20', 'ind21', 'ind15total', 'ind15min', 'ind15max', 'ind18_proc', 'ind19_proc']\n",
      "['id_orgao_julgador', 'id_origem', 'sigla_tribunal', 'ramo_justica', 'sigla_grau', 'id_formato', 'procedimento', 'originario', 'id_assunto', 'ano', 'p.12m', 'ind1', 'ind2', 'ind19_dias', 'ind3', 'ind16_dias', 'ind16_proc', 'ind8a1', 'ind17_dias', 'ind17_proc', 'ind5', 'ind18_dias', 'cp.15anos', 'cpl.15anos', 'cpnjulg.15anos', 'cplnjulg.15anos', 'ind8a', 'ind20', 'ind21', 'ind15total', 'ind15min', 'ind15max', 'ind18_proc', 'ind19_proc']\n",
      "['id_orgao_julgador', 'id_origem', 'sigla_tribunal', 'ramo_justica', 'sigla_grau', 'id_formato', 'procedimento', 'originario', 'id_assunto', 'ano', 'p.12m', 'ind1', 'ind2', 'ind19_dias', 'ind3', 'ind16_dias', 'ind16_proc', 'ind8a1', 'ind17_dias', 'ind17_proc', 'ind5', 'ind18_dias', 'cp.15anos', 'cpl.15anos', 'cpnjulg.15anos', 'cplnjulg.15anos', 'ind8a', 'ind20', 'ind21', 'ind15total', 'ind15min', 'ind15max', 'ind18_proc', 'ind19_proc']\n",
      "['id_orgao_julgador', 'id_origem', 'sigla_tribunal', 'ramo_justica', 'sigla_grau', 'id_formato', 'procedimento', 'originario', 'id_assunto', 'ano', 'p.12m', 'ind1', 'ind2', 'ind19_dias', 'ind3', 'ind16_dias', 'ind16_proc', 'ind8a1', 'ind17_dias', 'ind17_proc', 'ind5', 'ind18_dias', 'cp.15anos', 'cpl.15anos', 'cpnjulg.15anos', 'cplnjulg.15anos', 'ind8a', 'ind20', 'ind21', 'ind15total', 'ind15min', 'ind15max', 'ind18_proc', 'ind19_proc']\n",
      "['id_orgao_julgador', 'id_origem', 'sigla_tribunal', 'ramo_justica', 'sigla_grau', 'id_formato', 'procedimento', 'originario', 'id_assunto', 'ano', 'p.12m', 'ind1', 'ind2', 'ind19_dias', 'ind3', 'ind16_dias', 'ind16_proc', 'ind8a1', 'ind17_dias', 'ind17_proc', 'ind5', 'ind18_dias', 'cp.15anos', 'cpl.15anos', 'cpnjulg.15anos', 'cplnjulg.15anos', 'ind8a', 'ind20', 'ind21', 'ind15total', 'ind15min', 'ind15max', 'ind18_proc', 'ind19_proc']\n"
     ]
    },
    {
     "ename": "KeyboardInterrupt",
     "evalue": "",
     "output_type": "error",
     "traceback": [
      "\u001B[31m---------------------------------------------------------------------------\u001B[39m",
      "\u001B[31mKeyboardInterrupt\u001B[39m                         Traceback (most recent call last)",
      "\u001B[36mCell\u001B[39m\u001B[36m \u001B[39m\u001B[32mIn[6]\u001B[39m\u001B[32m, line 1\u001B[39m\n\u001B[32m----> \u001B[39m\u001B[32m1\u001B[39m \u001B[38;5;28;43;01mfor\u001B[39;49;00m\u001B[43m \u001B[49m\u001B[43mdf\u001B[49m\u001B[43m \u001B[49m\u001B[38;5;129;43;01min\u001B[39;49;00m\u001B[43m \u001B[49m\u001B[43mpd\u001B[49m\u001B[43m.\u001B[49m\u001B[43mread_csv\u001B[49m\u001B[43m(\u001B[49m\u001B[43mpath_aux\u001B[49m\u001B[43m \u001B[49m\u001B[43m+\u001B[49m\u001B[43m \u001B[49m\u001B[33;43m'\u001B[39;49m\u001B[33;43m/tbl_fato_assuntos_R.csv\u001B[39;49m\u001B[33;43m'\u001B[39;49m\u001B[43m,\u001B[49m\u001B[43m \u001B[49m\u001B[43msep\u001B[49m\u001B[43m \u001B[49m\u001B[43m=\u001B[49m\u001B[43m \u001B[49m\u001B[33;43m'\u001B[39;49m\u001B[33;43m;\u001B[39;49m\u001B[33;43m'\u001B[39;49m\u001B[43m,\u001B[49m\u001B[43m \u001B[49m\u001B[43mchunksize\u001B[49m\u001B[43m \u001B[49m\u001B[43m=\u001B[49m\u001B[43m \u001B[49m\u001B[32;43m100000\u001B[39;49m\u001B[43m)\u001B[49m\u001B[43m:\u001B[49m\n\u001B[32m      2\u001B[39m \u001B[43m    \u001B[49m\u001B[38;5;28;43mprint\u001B[39;49m\u001B[43m(\u001B[49m\u001B[43mdf\u001B[49m\u001B[43m.\u001B[49m\u001B[43mcolumns\u001B[49m\u001B[43m.\u001B[49m\u001B[43mtolist\u001B[49m\u001B[43m(\u001B[49m\u001B[43m)\u001B[49m\u001B[43m)\u001B[49m\n",
      "\u001B[36mFile \u001B[39m\u001B[32mD:\\OneDrive\\Área de Trabalho\\PythonProject\\CNJSaude\\.venv\\Lib\\site-packages\\pandas\\io\\parsers\\readers.py:1843\u001B[39m, in \u001B[36mTextFileReader.__next__\u001B[39m\u001B[34m(self)\u001B[39m\n\u001B[32m   1841\u001B[39m \u001B[38;5;28;01mdef\u001B[39;00m\u001B[38;5;250m \u001B[39m\u001B[34m__next__\u001B[39m(\u001B[38;5;28mself\u001B[39m) -> DataFrame:\n\u001B[32m   1842\u001B[39m     \u001B[38;5;28;01mtry\u001B[39;00m:\n\u001B[32m-> \u001B[39m\u001B[32m1843\u001B[39m         \u001B[38;5;28;01mreturn\u001B[39;00m \u001B[38;5;28;43mself\u001B[39;49m\u001B[43m.\u001B[49m\u001B[43mget_chunk\u001B[49m\u001B[43m(\u001B[49m\u001B[43m)\u001B[49m\n\u001B[32m   1844\u001B[39m     \u001B[38;5;28;01mexcept\u001B[39;00m \u001B[38;5;167;01mStopIteration\u001B[39;00m:\n\u001B[32m   1845\u001B[39m         \u001B[38;5;28mself\u001B[39m.close()\n",
      "\u001B[36mFile \u001B[39m\u001B[32mD:\\OneDrive\\Área de Trabalho\\PythonProject\\CNJSaude\\.venv\\Lib\\site-packages\\pandas\\io\\parsers\\readers.py:1985\u001B[39m, in \u001B[36mTextFileReader.get_chunk\u001B[39m\u001B[34m(self, size)\u001B[39m\n\u001B[32m   1983\u001B[39m         \u001B[38;5;28;01mraise\u001B[39;00m \u001B[38;5;167;01mStopIteration\u001B[39;00m\n\u001B[32m   1984\u001B[39m     size = \u001B[38;5;28mmin\u001B[39m(size, \u001B[38;5;28mself\u001B[39m.nrows - \u001B[38;5;28mself\u001B[39m._currow)\n\u001B[32m-> \u001B[39m\u001B[32m1985\u001B[39m \u001B[38;5;28;01mreturn\u001B[39;00m \u001B[38;5;28;43mself\u001B[39;49m\u001B[43m.\u001B[49m\u001B[43mread\u001B[49m\u001B[43m(\u001B[49m\u001B[43mnrows\u001B[49m\u001B[43m=\u001B[49m\u001B[43msize\u001B[49m\u001B[43m)\u001B[49m\n",
      "\u001B[36mFile \u001B[39m\u001B[32mD:\\OneDrive\\Área de Trabalho\\PythonProject\\CNJSaude\\.venv\\Lib\\site-packages\\pandas\\io\\parsers\\readers.py:1923\u001B[39m, in \u001B[36mTextFileReader.read\u001B[39m\u001B[34m(self, nrows)\u001B[39m\n\u001B[32m   1916\u001B[39m nrows = validate_integer(\u001B[33m\"\u001B[39m\u001B[33mnrows\u001B[39m\u001B[33m\"\u001B[39m, nrows)\n\u001B[32m   1917\u001B[39m \u001B[38;5;28;01mtry\u001B[39;00m:\n\u001B[32m   1918\u001B[39m     \u001B[38;5;66;03m# error: \"ParserBase\" has no attribute \"read\"\u001B[39;00m\n\u001B[32m   1919\u001B[39m     (\n\u001B[32m   1920\u001B[39m         index,\n\u001B[32m   1921\u001B[39m         columns,\n\u001B[32m   1922\u001B[39m         col_dict,\n\u001B[32m-> \u001B[39m\u001B[32m1923\u001B[39m     ) = \u001B[38;5;28;43mself\u001B[39;49m\u001B[43m.\u001B[49m\u001B[43m_engine\u001B[49m\u001B[43m.\u001B[49m\u001B[43mread\u001B[49m\u001B[43m(\u001B[49m\u001B[43m  \u001B[49m\u001B[38;5;66;43;03m# type: ignore[attr-defined]\u001B[39;49;00m\n\u001B[32m   1924\u001B[39m \u001B[43m        \u001B[49m\u001B[43mnrows\u001B[49m\n\u001B[32m   1925\u001B[39m \u001B[43m    \u001B[49m\u001B[43m)\u001B[49m\n\u001B[32m   1926\u001B[39m \u001B[38;5;28;01mexcept\u001B[39;00m \u001B[38;5;167;01mException\u001B[39;00m:\n\u001B[32m   1927\u001B[39m     \u001B[38;5;28mself\u001B[39m.close()\n",
      "\u001B[36mFile \u001B[39m\u001B[32mD:\\OneDrive\\Área de Trabalho\\PythonProject\\CNJSaude\\.venv\\Lib\\site-packages\\pandas\\io\\parsers\\c_parser_wrapper.py:234\u001B[39m, in \u001B[36mCParserWrapper.read\u001B[39m\u001B[34m(self, nrows)\u001B[39m\n\u001B[32m    232\u001B[39m \u001B[38;5;28;01mtry\u001B[39;00m:\n\u001B[32m    233\u001B[39m     \u001B[38;5;28;01mif\u001B[39;00m \u001B[38;5;28mself\u001B[39m.low_memory:\n\u001B[32m--> \u001B[39m\u001B[32m234\u001B[39m         chunks = \u001B[38;5;28;43mself\u001B[39;49m\u001B[43m.\u001B[49m\u001B[43m_reader\u001B[49m\u001B[43m.\u001B[49m\u001B[43mread_low_memory\u001B[49m\u001B[43m(\u001B[49m\u001B[43mnrows\u001B[49m\u001B[43m)\u001B[49m\n\u001B[32m    235\u001B[39m         \u001B[38;5;66;03m# destructive to chunks\u001B[39;00m\n\u001B[32m    236\u001B[39m         data = _concatenate_chunks(chunks)\n",
      "\u001B[36mFile \u001B[39m\u001B[32mparsers.pyx:850\u001B[39m, in \u001B[36mpandas._libs.parsers.TextReader.read_low_memory\u001B[39m\u001B[34m()\u001B[39m\n",
      "\u001B[36mFile \u001B[39m\u001B[32mparsers.pyx:905\u001B[39m, in \u001B[36mpandas._libs.parsers.TextReader._read_rows\u001B[39m\u001B[34m()\u001B[39m\n",
      "\u001B[36mFile \u001B[39m\u001B[32mparsers.pyx:874\u001B[39m, in \u001B[36mpandas._libs.parsers.TextReader._tokenize_rows\u001B[39m\u001B[34m()\u001B[39m\n",
      "\u001B[36mFile \u001B[39m\u001B[32mparsers.pyx:891\u001B[39m, in \u001B[36mpandas._libs.parsers.TextReader._check_tokenize_status\u001B[39m\u001B[34m()\u001B[39m\n",
      "\u001B[36mFile \u001B[39m\u001B[32mparsers.pyx:2053\u001B[39m, in \u001B[36mpandas._libs.parsers.raise_parser_error\u001B[39m\u001B[34m()\u001B[39m\n",
      "\u001B[36mFile \u001B[39m\u001B[32m<frozen codecs>:331\u001B[39m, in \u001B[36mgetstate\u001B[39m\u001B[34m(self)\u001B[39m\n",
      "\u001B[31mKeyboardInterrupt\u001B[39m: "
     ]
    }
   ],
   "execution_count": 6
  },
  {
   "metadata": {
    "ExecuteTime": {
     "end_time": "2025-04-15T01:16:36.608289Z",
     "start_time": "2025-04-15T01:16:36.083082Z"
    }
   },
   "cell_type": "code",
   "source": "print(df.head(50))",
   "id": "f56fee62e02437e0",
   "outputs": [
    {
     "ename": "AttributeError",
     "evalue": "'TextFileReader' object has no attribute 'head'",
     "output_type": "error",
     "traceback": [
      "\u001B[31m---------------------------------------------------------------------------\u001B[39m",
      "\u001B[31mAttributeError\u001B[39m                            Traceback (most recent call last)",
      "\u001B[36mCell\u001B[39m\u001B[36m \u001B[39m\u001B[32mIn[3]\u001B[39m\u001B[32m, line 1\u001B[39m\n\u001B[32m----> \u001B[39m\u001B[32m1\u001B[39m \u001B[38;5;28mprint\u001B[39m(\u001B[43mdf\u001B[49m\u001B[43m.\u001B[49m\u001B[43mhead\u001B[49m(\u001B[32m50\u001B[39m))\n",
      "\u001B[31mAttributeError\u001B[39m: 'TextFileReader' object has no attribute 'head'"
     ]
    }
   ],
   "execution_count": 3
  },
  {
   "metadata": {},
   "cell_type": "code",
   "source": "print(df.columns.tolist())",
   "id": "4f833021ecb6dc01",
   "outputs": [],
   "execution_count": null
  },
  {
   "metadata": {
    "ExecuteTime": {
     "end_time": "2025-04-15T01:33:47.147747Z",
     "start_time": "2025-04-15T01:33:47.134028Z"
    }
   },
   "cell_type": "code",
   "source": [
    "# Ajuste o caminho para um dos seus CSVs descompactados\n",
    "caminho_csv_exemplo = './AnaliseBR/NO/TJAC_CN.csv'\n",
    "try:\n",
    "    # Tenta ler apenas a primeira linha (cabeçalho) com o separador esperado\n",
    "    df_header = pd.read_csv(caminho_csv_exemplo, sep=';', encoding='utf-8', nrows=0)\n",
    "    print(\"Nomes EXATOS das colunas encontrados no CSV:\")\n",
    "    print(list(df_header.columns))\n",
    "except Exception as e:\n",
    "    print(f\"Erro ao tentar ler o cabeçalho do CSV: {e}\")\n",
    "    print(\"Verifique o caminho, o separador (sep=';') e o encoding (encoding='latin-1').\")\n"
   ],
   "id": "3aa165548324e9a3",
   "outputs": [
    {
     "name": "stdout",
     "output_type": "stream",
     "text": [
      "Nomes EXATOS das colunas encontrados no CSV:\n",
      "['Tribunal', 'Grau', 'Nome Orgao', 'UF', 'Municipio', 'Ano', 'Mes', 'Processo', 'Codigo da Ultima classe', 'Nome da Ultima classe', 'Codigos classes', 'Codigos assuntos', 'Data de Referencia', 'Formato', 'Procedimento', 'Recurso', 'Codigo Orgao', 'id_municipio', 'Polo ativo', 'Polo ativo - CNPJ', 'Polo ativo - Natureza juridica', 'Polo ativo - CNAE', 'Polo passivo', 'Polo passivo - CNPJ', 'Polo passivo - Natureza juridica', 'Polo passivo - CNAE', 'Poder publico']\n"
     ]
    }
   ],
   "execution_count": 8
  },
  {
   "metadata": {
    "ExecuteTime": {
     "end_time": "2025-04-15T01:45:15.482338Z",
     "start_time": "2025-04-15T01:45:15.476592Z"
    }
   },
   "cell_type": "code",
   "source": "print(pd.__version__)",
   "id": "c3606cd74f45ea81",
   "outputs": [
    {
     "name": "stdout",
     "output_type": "stream",
     "text": [
      "2.2.3\n"
     ]
    }
   ],
   "execution_count": 9
  },
  {
   "metadata": {},
   "cell_type": "code",
   "outputs": [],
   "execution_count": null,
   "source": "",
   "id": "f4bd2fbac3fca149"
  }
 ],
 "metadata": {
  "kernelspec": {
   "display_name": "Python 3",
   "language": "python",
   "name": "python3"
  },
  "language_info": {
   "codemirror_mode": {
    "name": "ipython",
    "version": 2
   },
   "file_extension": ".py",
   "mimetype": "text/x-python",
   "name": "python",
   "nbconvert_exporter": "python",
   "pygments_lexer": "ipython2",
   "version": "2.7.6"
  }
 },
 "nbformat": 4,
 "nbformat_minor": 5
}
